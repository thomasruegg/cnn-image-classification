{
 "cells": [
  {
   "cell_type": "code",
   "execution_count": null,
   "metadata": {},
   "outputs": [],
   "source": [
    "'''\n",
    "The model is too simple and describes the data not accurately enough\n",
    "'''"
   ]
  }
 ],
 "metadata": {
  "kernelspec": {
   "display_name": "AIFo22",
   "language": "python",
   "name": "python3"
  },
  "language_info": {
   "name": "python",
   "version": "3.9.13"
  },
  "orig_nbformat": 4,
  "vscode": {
   "interpreter": {
    "hash": "223ea723ef513ef457f8965ce495f1c1c726aaeacecf6a5d3e5925cfd3a89593"
   }
  }
 },
 "nbformat": 4,
 "nbformat_minor": 2
}
