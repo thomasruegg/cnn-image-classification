{
 "cells": [
  {
   "attachments": {},
   "cell_type": "markdown",
   "metadata": {},
   "source": [
    "# Optimized Model\n",
    "This model does not show under- or overfitting and performs well on both, training and testing data. Afterwards, a brief description on how to tackle the challenges of an optimal model complexity. \n",
    "\n",
    "To address underfitting, one approach is to increase the complexity of the model by adding more layers or increasing the number of filters in each layer. To address overfitting, we can try several approaches. One approach is to simplify the model by removing some layers or decreasing the number of filters in each layer. Another approach is to use less epochs for example.\n",
    "\n",
    "\n",
    "\n",
    "\n",
    "Adding dropout or weight decay can help to address both of the above mentioned issues. We can also try adjusting the hyperparameters such as learning rate, batch size, or number of epochs.\n",
    "\n",
    "## GPU Acceleration\n",
    "We found out that training a model on images can be a very time consuming task, especially if many images are involved. Randomly we stumbled upon an article that stated about \"GPU Acceleration\" which sounded pretty interesting. Afterwards, we read a bit about the topic and found out that it is possible on our Apple M1 Pro / M2 Pro chips. After a lot of trial and error we ended up using the tensorflow-macos and tensorflow-metal packages but with specific versions because the newest versions did not work. With the both packages installed correctly, both the CPU and GPU are being used for training. The CPU on the M2 Pro chip has 12 cores and a 19 core GPU. The total of 31 cores over 12 cores already indicates that usage of the GPU would lead to massive performance improvements. The following image shows the CPU and GPU usage during training of the optimized model:\n",
    "![GPU Acceleration](gpu-acceleration.png \"GPU Acceleration\")\n",
    "\n",
    "When we were utilizing the CPU only training took ~100s per epoch for the overfitting model (~11'000'000 trainable parameters). After enabling GPU acceleration we came down to astonishing ~10s per epoch. This factor of 10 improvement was even more than we hoped and enabled us to test more parameters because training took about 2 minutes instead of the usual 20 minutes.\n",
    "TODO + AUTOTUNE für Caching von Images\n",
    "\n",
    "## Dataset Initialization"
   ]
  },
  {
   "cell_type": "code",
   "execution_count": 6,
   "metadata": {},
   "outputs": [
    {
     "name": "stdout",
     "output_type": "stream",
     "text": [
      "[name: \"/device:CPU:0\"\n",
      "device_type: \"CPU\"\n",
      "memory_limit: 268435456\n",
      "locality {\n",
      "}\n",
      "incarnation: 17434704944592301579\n",
      "xla_global_id: -1\n",
      ", name: \"/device:GPU:0\"\n",
      "device_type: \"GPU\"\n",
      "locality {\n",
      "  bus_id: 1\n",
      "}\n",
      "incarnation: 13898173953679122683\n",
      "physical_device_desc: \"device: 0, name: METAL, pci bus id: <undefined>\"\n",
      "xla_global_id: -1\n",
      "]\n"
     ]
    },
    {
     "name": "stderr",
     "output_type": "stream",
     "text": [
      "2023-03-10 19:32:10.352556: I tensorflow/core/common_runtime/pluggable_device/pluggable_device_factory.cc:305] Could not identify NUMA node of platform GPU ID 0, defaulting to 0. Your kernel may not have been built with NUMA support.\n",
      "2023-03-10 19:32:10.353476: I tensorflow/core/common_runtime/pluggable_device/pluggable_device_factory.cc:271] Created TensorFlow device (/device:GPU:0 with 0 MB memory) -> physical PluggableDevice (device: 0, name: METAL, pci bus id: <undefined>)\n"
     ]
    }
   ],
   "source": [
    "import numpy as np\n",
    "import matplotlib.pyplot as plt\n",
    "from tensorflow.python.client import device_lib\n",
    "print(device_lib.list_local_devices())"
   ]
  },
  {
   "attachments": {},
   "cell_type": "markdown",
   "metadata": {},
   "source": [
    "## Data Augmentation\n",
    "Data Augmentation has proven to be a useful tool for model generalization. We've compared the same model with and without data augmentation and the results show that the model without data augmentation tends to overfit while the model with data augmentation doesn't:\n",
    "![Data Augmentation Result](comparison-data-agumentation.jpg \"Data Augmentation Result\")"
   ]
  },
  {
   "cell_type": "code",
   "execution_count": 2,
   "metadata": {},
   "outputs": [
    {
     "name": "stdout",
     "output_type": "stream",
     "text": [
      "Found 2666 files belonging to 5 classes.\n",
      "Using 2133 files for training.\n"
     ]
    },
    {
     "name": "stderr",
     "output_type": "stream",
     "text": [
      "2023-03-10 13:53:05.934691: I tensorflow/core/common_runtime/pluggable_device/pluggable_device_factory.cc:305] Could not identify NUMA node of platform GPU ID 0, defaulting to 0. Your kernel may not have been built with NUMA support.\n",
      "2023-03-10 13:53:05.934723: I tensorflow/core/common_runtime/pluggable_device/pluggable_device_factory.cc:271] Created TensorFlow device (/job:localhost/replica:0/task:0/device:GPU:0 with 0 MB memory) -> physical PluggableDevice (device: 0, name: METAL, pci bus id: <undefined>)\n"
     ]
    },
    {
     "name": "stdout",
     "output_type": "stream",
     "text": [
      "Found 2666 files belonging to 5 classes.\n",
      "Using 533 files for validation.\n",
      "Found 2499 files belonging to 5 classes.\n"
     ]
    }
   ],
   "source": [
    "from tensorflow.keras.utils import image_dataset_from_directory\n",
    "\n",
    "img_size = 150\n",
    "batch_size = 128\n",
    "seed = 31\n",
    "\n",
    "train_ds = image_dataset_from_directory(\n",
    "    './dataset/seg_train/seg_train',\n",
    "    validation_split=0.2,\n",
    "    subset=\"training\",\n",
    "    labels=\"inferred\",\n",
    "    seed=seed,\n",
    "    image_size=(img_size, img_size),\n",
    "    batch_size=batch_size\n",
    ")\n",
    "val_ds = image_dataset_from_directory(\n",
    "    './dataset/seg_train/seg_train',\n",
    "    validation_split=0.2,\n",
    "    subset=\"validation\",\n",
    "    labels=\"inferred\",\n",
    "    seed=seed,\n",
    "    image_size=(img_size, img_size),\n",
    "    batch_size=batch_size\n",
    ")\n",
    "test_ds = image_dataset_from_directory(\n",
    "    './dataset/seg_test/seg_test',\n",
    "    labels=\"inferred\",\n",
    "    seed=seed,\n",
    "    image_size=(img_size, img_size),\n",
    "    batch_size=batch_size\n",
    ")"
   ]
  },
  {
   "cell_type": "code",
   "execution_count": 3,
   "metadata": {},
   "outputs": [],
   "source": [
    "from tensorflow.keras.models import Sequential\n",
    "from tensorflow.keras.layers import RandomRotation, RandomZoom, Rescaling, RandomFlip\n",
    "\n",
    "data_augmentation = Sequential(\n",
    "  [\n",
    "    RandomFlip(\"horizontal\", input_shape=(img_size, img_size, 3)),\n",
    "    RandomRotation(0.1),\n",
    "    RandomZoom(0.1),\n",
    "  ]\n",
    ")"
   ]
  },
  {
   "cell_type": "code",
   "execution_count": 4,
   "metadata": {},
   "outputs": [
    {
     "name": "stderr",
     "output_type": "stream",
     "text": [
      "2023-03-10 13:53:06.335007: W tensorflow/core/platform/profile_utils/cpu_utils.cc:128] Failed to get CPU frequency: 0 Hz\n"
     ]
    }
   ],
   "source": [
    "class_names = ['buildings', 'forest', 'glacier', 'mountain', 'sea']\n",
    "def plot_images(title, augment = False):\n",
    "  plt.figure(figsize=(5, 5))\n",
    "  plt.suptitle(title)\n",
    "  for images, labels in train_ds.take(1):\n",
    "    for i in range(9):\n",
    "      augmented_images = data_augmentation(images) if augment else images\n",
    "      ax = plt.subplot(3, 3, i + 1)\n",
    "      plt.imshow(augmented_images[i].numpy().astype(\"uint8\"))\n",
    "      plt.title(class_names[labels[i]])\n",
    "      plt.axis(\"off\")\n",
    "\n",
    "plot_images(\"Augmented Images\", augment=True)"
   ]
  },
  {
   "attachments": {},
   "cell_type": "markdown",
   "metadata": {},
   "source": [
    "## Building the Model\n",
    "As a baseline we used the same model as the overfitting one but we add some extras to reduce the overfitting behavior.\n",
    "\n",
    "### Regularization\n",
    "Regularization is used to reduce the impact impact of the weights. The weights then end up having less impact on the loss function which determines the error between the actual label and predicted label. This reduces complexity of the model and therefore reduces overfitting. We are adding regularization only to those layers which have the largest number of parameters according to the model summary. We are using L2 (Ridge) regularization since it predetermined from the task. We are adding L2 mainly to the layers that add the most parameters to the CNN.\n",
    "\n",
    "Dropout Layers: The benefit of using dropout is no node in the network will be assigned with high parameter values, as a a result the parameter values will be dispersed and the output of the current layer will not depend on a single node.\n",
    "E.g. Dropout(0.2) drops the input layers at a probability of 0.2. Dropout is applied per batch size, so the parameters get tuned for a full batch size with missing input parameters which results in lower generalization errors. \n",
    "\n",
    "### Generalization\n",
    "To improve generalization of the model, data augmentation is a useful tool. With data augmentation we can add artificial effects to the images such as flipping and rotating. Through these effects, the images always appear differently each time they appear in the training step and therefore the CNN doesn't adapt to the exact images but rather learns about the relative features inside of an image.\n",
    "\n",
    "### Optimizer\n",
    "For the optimized model we chose Adam over the competitors because it is the most common among SGD. We tried out SGD but it performed very poorly compared to Adam which might be due to insufficient configuration of the learning rate. Adam optimization is a stochastic gradient descent method that is based on adaptive estimation of first-order (mean) and second-order (uncentered variance) moments. Its default implementation already provides a form of annealed learning, beta_1=0.9 for the first-order moment and beta_2=0.999 for the second-order moment. \n",
    "\n",
    "### Activation Function\n",
    "The [following article](https://thangasami.medium.com/cnn-and-ann-performance-with-different-activation-functions-like-relu-selu-elu-sigmoid-gelu-etc-c542dd3b1365) states that ReLU is the overall the best suited activation function so based on this we decided to use ReLU for our optimized model.\n",
    "\n",
    "### Batch Size\n",
    "The batch size defines how many samples (images here) run through the Neural Network before the weights get adapted. It is recommended to use mini batches to update the Neural Network multiple times during an epoch. We've tried out differnt batch sizes with the same seed on the image generator TODO"
   ]
  },
  {
   "cell_type": "code",
   "execution_count": null,
   "metadata": {},
   "outputs": [],
   "source": [
    "from tensorflow.keras.layers import Conv2D, MaxPooling2D, Flatten, Dense, Dropout\n",
    "from tensorflow.keras.losses import SparseCategoricalCrossentropy\n",
    "from tensorflow.keras.metrics import SparseCategoricalAccuracy\n",
    "from tensorflow.keras.regularizers import l2"
   ]
  },
  {
   "attachments": {},
   "cell_type": "markdown",
   "metadata": {},
   "source": [
    "## Layers\n",
    "### First Layer\n",
    "The RGB channel values are in the [0, 255] range. This is not ideal for a neural network because in general, the input values should be small. Therefore we use the Rescaling layer as a normalization layer. \n",
    "\n",
    "### Dropout\n",
    "With Cross-Validation we've tried out different dropout params (0.2, 0.3, 0.4) for the layer before the dense layers. The results are pretty similar but the 0.3 dropout seems to be more stable at the end of 30 epochs so we used this parameter for the model. The steep spikes of accuracy in the first few epochs are expected because due to dropout, some parameters are missing everytime and the model improves a lot over a short period of time because other parameters are being dropped out at every epoch. \n",
    "![Last Layer Dropout](cv-dropout-optimization.jpg \"Last Layer Dropout\")\n",
    "\n",
    "### Last Layer\n",
    "For the last layer we tried out 512, 1024 and 2048 trainable parameters and the Cross-Validation result was that the accuracy and loss were not drastically affected but the network with 2048 parameters in the last layer was much more stable than the others. Based on this fact, we sticked with using 2048 parameters in the last layer.\n",
    "![CV Last Layer](cv-last-layer-param.jpg \"CV Last Layer\")\n",
    "\n",
    "### Loss Function\n",
    "Because we use the SoftMax activation function as the output of the last Dense Layer, we get normalized probabilites, [0, 1]. The SparseCategoricalCrossentry function's from_logits=True would expect Logits which are in the range of [-inf, +inf] and therefore, we use from_logits=False.¨\n",
    "\n",
    "As the optimizer, we also tried out SGD with annealed learning but in the course of 20 epochs we reached poorer results than with adam."
   ]
  },
  {
   "cell_type": "code",
   "execution_count": null,
   "metadata": {},
   "outputs": [],
   "source": [
    "def create_model(l2_param=0.001, last_dropout_param=0.3, last_layer_param=512):\n",
    "    model = Sequential()\n",
    "\n",
    "    model.add(data_augmentation)\n",
    "    model.add(Rescaling(1./255))\n",
    "\n",
    "    model.add(Conv2D(32, (3,3), input_shape= (img_size,img_size, 3), activation = 'relu', padding = 'same')) #padding = same size output\n",
    "    model.add(MaxPooling2D())\n",
    "\n",
    "    model.add(Conv2D(64, (3,3), activation = 'relu', padding = 'same'))\n",
    "    model.add(MaxPooling2D())\n",
    "\n",
    "    model.add(Conv2D(128, (3,3), activation = 'relu', padding = 'same')) \n",
    "    model.add(MaxPooling2D())\n",
    "\n",
    "    model.add(Conv2D(256, (3,3), activation = 'relu', padding = 'same')) \n",
    "    model.add(MaxPooling2D())\n",
    "\n",
    "    model.add(Conv2D(512, (3,3), activation = 'relu', padding = 'same', kernel_regularizer=l2(l=l2_param))) \n",
    "    model.add(MaxPooling2D())\n",
    "    model.add(Dropout(0.1))\n",
    "\n",
    "    model.add(Conv2D(1024, (3,3), activation = 'relu', padding = 'same', kernel_regularizer=l2(l=l2_param))) \n",
    "    model.add(MaxPooling2D())\n",
    "    model.add(Dropout(0.1))\n",
    "\n",
    "    if last_layer_param != 0:\n",
    "        model.add(Conv2D(last_layer_param, (3,3), activation = 'relu', padding = 'same', kernel_regularizer=l2(l=l2_param))) \n",
    "        model.add(MaxPooling2D())\n",
    "\n",
    "    model.add(Dropout(last_dropout_param))\n",
    "    model.add(Flatten())\n",
    "\n",
    "    model.add(Dense(256, activation='relu'))\n",
    "    #model.add(Dense(512, activation='relu'))\n",
    "    model.add(Dense(5, activation = 'softmax'))\n",
    "\n",
    "    model.compile(\n",
    "       optimizer = 'adam', \n",
    "       loss=SparseCategoricalCrossentropy(from_logits=False), \n",
    "       metrics=[SparseCategoricalAccuracy()]\n",
    "    )\n",
    "\n",
    "    return model"
   ]
  },
  {
   "attachments": {},
   "cell_type": "markdown",
   "metadata": {},
   "source": [
    "## Cross Validation for Parameter Optimization\n",
    "To find the optimal L2 regularization parameter we are using a custom implementation for Cross Validation. We tried to use GridSearchCV (as we did in the AI Foundation course) but apparantly, the layer parameters (such as the regularization parameter of the 2nd Conv2D layer) are not accessible from GridSearchCV. With this approach we are fully flexible but have to write if-else statements in the model creation step. With this Cross-Validation implementation we've tuned parameters such as the l2 regularization paramter, the number of trainable parameters in the last Conv2D layer or the percentage of dropout before the dense layers.\n",
    "\n",
    "The following image visualizes the results of the l2 regularization parameter. The value 0.01 gave the same results for multiple runs and our interpretation is that the penalty was too high to improve the weights of the model and therefore converged almost immediately. The results for l2=0.001 and l2=0001 are pretty similar for the first ~20 epochs but later on the l2=001 parameter performs better on surpressing overfitting:\n",
    "![l2 Parameter Optimization](cv-l2-optimization.jpg \"l2 Parameter Optimization\")"
   ]
  },
  {
   "cell_type": "code",
   "execution_count": 1,
   "metadata": {},
   "outputs": [
    {
     "ename": "NameError",
     "evalue": "name 'img_size' is not defined",
     "output_type": "error",
     "traceback": [
      "\u001b[0;31m---------------------------------------------------------------------------\u001b[0m",
      "\u001b[0;31mNameError\u001b[0m                                 Traceback (most recent call last)",
      "Cell \u001b[0;32mIn[1], line 24\u001b[0m\n\u001b[1;32m     17\u001b[0m param_permutations \u001b[39m=\u001b[39m \u001b[39mlist\u001b[39m(itertools\u001b[39m.\u001b[39mproduct(\u001b[39m*\u001b[39mparams))\n\u001b[1;32m     19\u001b[0m model_history \u001b[39m=\u001b[39m \u001b[39mdict\u001b[39m()\n\u001b[1;32m     21\u001b[0m dataset \u001b[39m=\u001b[39m tf\u001b[39m.\u001b[39mkeras\u001b[39m.\u001b[39mpreprocessing\u001b[39m.\u001b[39mimage_dataset_from_directory(\n\u001b[1;32m     22\u001b[0m     \u001b[39m'\u001b[39m\u001b[39m./dataset/seg_train/seg_train\u001b[39m\u001b[39m'\u001b[39m,\n\u001b[1;32m     23\u001b[0m     seed\u001b[39m=\u001b[39m\u001b[39m123\u001b[39m,  \u001b[39m# for reproducibility\u001b[39;00m\n\u001b[0;32m---> 24\u001b[0m     image_size\u001b[39m=\u001b[39m(img_size, img_size)\n\u001b[1;32m     25\u001b[0m )\n\u001b[1;32m     27\u001b[0m images \u001b[39m=\u001b[39m np\u001b[39m.\u001b[39mconcatenate([x \u001b[39mfor\u001b[39;00m x, y \u001b[39min\u001b[39;00m dataset], axis\u001b[39m=\u001b[39m\u001b[39m0\u001b[39m)\n\u001b[1;32m     28\u001b[0m labels \u001b[39m=\u001b[39m np\u001b[39m.\u001b[39mconcatenate([y \u001b[39mfor\u001b[39;00m x, y \u001b[39min\u001b[39;00m dataset], axis\u001b[39m=\u001b[39m\u001b[39m0\u001b[39m)\n",
      "\u001b[0;31mNameError\u001b[0m: name 'img_size' is not defined"
     ]
    }
   ],
   "source": [
    "import itertools\n",
    "from sklearn.model_selection import KFold\n",
    "import tensorflow as tf\n",
    "import json\n",
    "\n",
    "param_grid=dict(\n",
    "    # last_layer_param=[512, 1024, 2048]\n",
    "    l2_param=[0.01, 0.001, 0.0001],\n",
    "    # last_dropout_param=[0.2, 0.3, 0.4]\n",
    "    # last_dropout_param=[0.2, 0.3, 0.4]\n",
    ")\n",
    "epochs = 10\n",
    "folds = 5\n",
    "\n",
    "keys = list(param_grid.keys())\n",
    "params = list(param_grid.get(x) for x in keys)\n",
    "param_permutations = list(itertools.product(*params))\n",
    "\n",
    "model_history = dict()\n",
    "\n",
    "dataset = tf.keras.preprocessing.image_dataset_from_directory(\n",
    "    './dataset/seg_train/seg_train',\n",
    "    seed=123,  # for reproducibility\n",
    "    image_size=(img_size, img_size)\n",
    ")\n",
    "\n",
    "images = np.concatenate([x for x, y in dataset], axis=0)\n",
    "labels = np.concatenate([y for x, y in dataset], axis=0)\n",
    "\n",
    "kfold = KFold(n_splits=folds, shuffle=True)\n",
    "\n",
    "for perm in param_permutations:\n",
    "    model_args = dict()\n",
    "    for index in range(len(params)):\n",
    "        key = keys[index]\n",
    "        value = perm[index]\n",
    "        model_args[key] = value\n",
    "\n",
    "    # Set title according to the params for later visualization\n",
    "    title = \", \".join(list((key + \": \" + str(model_args[key])) for key in model_args.keys()))\n",
    "    \n",
    "    print(\"CURRENTLY TRAINING THE MODEL WITH THE FOLLOWING PARAMS: \" + title)\n",
    "    model_history[title] = []\n",
    "\n",
    "    for fold, (train_indices, val_indices) in enumerate(kfold.split(images)):\n",
    "        print(f'Fold {fold+1}/{folds}, (params={title})')\n",
    "\n",
    "        train_images, train_labels = images[train_indices], labels[train_indices]\n",
    "        val_images, val_labels = images[val_indices], labels[val_indices]\n",
    "\n",
    "        train_dataset = dataset.unbatch().filter(lambda img, label: tf.reduce_any(tf.equal(label, train_labels))).batch(batch_size).prefetch(buffer_size=tf.data.AUTOTUNE)\n",
    "        val_dataset = dataset.unbatch().filter(lambda img, label: tf.reduce_any(tf.equal(label, val_labels))).batch(batch_size).prefetch(buffer_size=tf.data.AUTOTUNE)\n",
    "\n",
    "        model = create_model(**model_args)\n",
    "        \n",
    "        history = model.fit(\n",
    "            train_dataset,\n",
    "            validation_data=val_dataset,\n",
    "            epochs=epochs\n",
    "        )\n",
    "\n",
    "        # Evaluate the model on the validation dataset for this fold\n",
    "        loss, acc = model.evaluate(test_ds)\n",
    "        print(f'Validation accuracy: {acc:.3f}\\n')\n",
    "\n",
    "        # Use title as key for easy usage\n",
    "        model_history[title].append(dict(fold=fold, loss=loss, acc=acc))\n",
    "\n",
    "    with open(f'model-history-{title}.json', 'w') as f:\n",
    "        json.dump(model_history, f)"
   ]
  },
  {
   "cell_type": "code",
   "execution_count": 7,
   "metadata": {},
   "outputs": [
    {
     "name": "stdout",
     "output_type": "stream",
     "text": [
      "{'last_layer_param: 512': [{'fold': 0, 'loss': 0.9580041766166687, 'acc': 0.6450580358505249}, {'fold': 1, 'loss': 0.8243932127952576, 'acc': 0.685874342918396}, {'fold': 2, 'loss': 1.3444817066192627, 'acc': 0.5246098637580872}, {'fold': 3, 'loss': 0.9893543124198914, 'acc': 0.6194477677345276}, {'fold': 4, 'loss': 0.8950880169868469, 'acc': 0.6618647575378418}], 'last_layer_param: 1024': [{'fold': 0, 'loss': 1.002255916595459, 'acc': 0.6302521228790283}, {'fold': 1, 'loss': 1.0927249193191528, 'acc': 0.5918367505073547}, {'fold': 2, 'loss': 1.0004750490188599, 'acc': 0.6314525604248047}, {'fold': 3, 'loss': 0.9172393679618835, 'acc': 0.6574629545211792}, {'fold': 4, 'loss': 1.024383306503296, 'acc': 0.6054421663284302}], 'last_layer_param: 2048': [{'fold': 0, 'loss': 1.1013964414596558, 'acc': 0.5674269795417786}, {'fold': 1, 'loss': 0.9457604289054871, 'acc': 0.6214485764503479}, {'fold': 2, 'loss': 1.1457700729370117, 'acc': 0.5774309635162354}, {'fold': 3, 'loss': 0.8856483101844788, 'acc': 0.6426570415496826}, {'fold': 4, 'loss': 0.9397972822189331, 'acc': 0.6210483908653259}]}\n"
     ]
    },
    {
     "data": {
      "image/png": "[encoded data removed]",
      "text/plain": [
       "<Figure size 1500x1500 with 2 Axes>"
      ]
     },
     "metadata": {},
     "output_type": "display_data"
    }
   ],
   "source": [
    "model_history = {\n",
    "    \"last_layer_param: 512\": [{\"fold\": 0, \"loss\": 0.9580041766166687, \"acc\": 0.6450580358505249}, {\"fold\": 1, \"loss\": 0.8243932127952576, \"acc\": 0.685874342918396}, {\"fold\": 2, \"loss\": 1.3444817066192627, \"acc\": 0.5246098637580872}, {\"fold\": 3, \"loss\": 0.9893543124198914, \"acc\": 0.6194477677345276}, {\"fold\": 4, \"loss\": 0.8950880169868469, \"acc\": 0.6618647575378418}],\n",
    "    \"last_layer_param: 1024\": [{\"fold\": 0, \"loss\": 1.002255916595459, \"acc\": 0.6302521228790283}, {\"fold\": 1, \"loss\": 1.0927249193191528, \"acc\": 0.5918367505073547}, {\"fold\": 2, \"loss\": 1.0004750490188599, \"acc\": 0.6314525604248047}, {\"fold\": 3, \"loss\": 0.9172393679618835, \"acc\": 0.6574629545211792}, {\"fold\": 4, \"loss\": 1.024383306503296, \"acc\": 0.6054421663284302}],\n",
    "    \"last_layer_param: 2048\": [{\"fold\": 0, \"loss\": 1.1013964414596558, \"acc\": 0.5674269795417786}, {\"fold\": 1, \"loss\": 0.9457604289054871, \"acc\": 0.6214485764503479}, {\"fold\": 2, \"loss\": 1.1457700729370117, \"acc\": 0.5774309635162354}, {\"fold\": 3, \"loss\": 0.8856483101844788, \"acc\": 0.6426570415496826}, {\"fold\": 4, \"loss\": 0.9397972822189331, \"acc\": 0.6210483908653259}]\n",
    "}\n",
    "accuracies = dict()\n",
    "print(model_history)\n",
    "losses = dict()\n",
    "for key in model_history.keys():\n",
    "    accuracies[key] = []\n",
    "    losses[key] = []\n",
    "    for entry in model_history[key]:\n",
    "        losses[key].append(entry[\"loss\"])\n",
    "        accuracies[key].append(entry[\"acc\"])\n",
    "\n",
    "fig, ax = plt.subplots(1, 2, constrained_layout=True)\n",
    "ax[0].set_title(\"Accuracies\")\n",
    "ax[0].boxplot(accuracies.values())\n",
    "ax[0].set_xticklabels(accuracies.keys(), rotation=45)\n",
    "ax[1].set_title(\"Losses\")\n",
    "ax[1].boxplot(losses.values())\n",
    "ax[1].set_xticklabels(losses.keys(), rotation=45)\n",
    "\n",
    "fig.set_figheight(15)\n",
    "fig.set_figwidth(15)"
   ]
  },
  {
   "attachments": {},
   "cell_type": "markdown",
   "metadata": {},
   "source": [
    "## Training the Model"
   ]
  },
  {
   "cell_type": "code",
   "execution_count": null,
   "metadata": {},
   "outputs": [
    {
     "name": "stdout",
     "output_type": "stream",
     "text": [
      "Model: \"sequential_1\"\n",
      "_________________________________________________________________\n",
      " Layer (type)                Output Shape              Param #   \n",
      "=================================================================\n",
      " sequential (Sequential)     (None, 150, 150, 3)       0         \n",
      "                                                                 \n",
      " rescaling (Rescaling)       (None, 150, 150, 3)       0         \n",
      "                                                                 \n",
      " conv2d (Conv2D)             (None, 150, 150, 32)      896       \n",
      "                                                                 \n",
      " max_pooling2d (MaxPooling2D  (None, 75, 75, 32)       0         \n",
      " )                                                               \n",
      "                                                                 \n",
      " conv2d_1 (Conv2D)           (None, 75, 75, 64)        18496     \n",
      "                                                                 \n",
      " max_pooling2d_1 (MaxPooling  (None, 37, 37, 64)       0         \n",
      " 2D)                                                             \n",
      "                                                                 \n",
      " conv2d_2 (Conv2D)           (None, 37, 37, 128)       73856     \n",
      "                                                                 \n",
      " max_pooling2d_2 (MaxPooling  (None, 18, 18, 128)      0         \n",
      " 2D)                                                             \n",
      "                                                                 \n",
      " conv2d_3 (Conv2D)           (None, 18, 18, 256)       295168    \n",
      "                                                                 \n",
      " max_pooling2d_3 (MaxPooling  (None, 9, 9, 256)        0         \n",
      " 2D)                                                             \n",
      "                                                                 \n",
      " conv2d_4 (Conv2D)           (None, 9, 9, 512)         1180160   \n",
      "                                                                 \n",
      " max_pooling2d_4 (MaxPooling  (None, 4, 4, 512)        0         \n",
      " 2D)                                                             \n",
      "                                                                 \n",
      " dropout (Dropout)           (None, 4, 4, 512)         0         \n",
      "                                                                 \n",
      " conv2d_5 (Conv2D)           (None, 4, 4, 1024)        4719616   \n",
      "                                                                 \n",
      " max_pooling2d_5 (MaxPooling  (None, 2, 2, 1024)       0         \n",
      " 2D)                                                             \n",
      "                                                                 \n",
      " dropout_1 (Dropout)         (None, 2, 2, 1024)        0         \n",
      "                                                                 \n",
      " conv2d_6 (Conv2D)           (None, 2, 2, 2048)        18876416  \n",
      "                                                                 \n",
      " max_pooling2d_6 (MaxPooling  (None, 1, 1, 2048)       0         \n",
      " 2D)                                                             \n",
      "                                                                 \n",
      " dropout_2 (Dropout)         (None, 1, 1, 2048)        0         \n",
      "                                                                 \n",
      " flatten (Flatten)           (None, 2048)              0         \n",
      "                                                                 \n",
      " dense (Dense)               (None, 256)               524544    \n",
      "                                                                 \n",
      " dense_1 (Dense)             (None, 5)                 1285      \n",
      "                                                                 \n",
      "=================================================================\n",
      "Total params: 25,690,437\n",
      "Trainable params: 25,690,437\n",
      "Non-trainable params: 0\n",
      "_________________________________________________________________\n"
     ]
    }
   ],
   "source": [
    "model = create_model()\n",
    "model.summary()"
   ]
  },
  {
   "cell_type": "code",
   "execution_count": null,
   "metadata": {},
   "outputs": [
    {
     "name": "stdout",
     "output_type": "stream",
     "text": [
      "Epoch 1/10\n"
     ]
    },
    {
     "name": "stderr",
     "output_type": "stream",
     "text": [
      "2023-03-09 16:44:30.999151: W tensorflow/core/platform/profile_utils/cpu_utils.cc:128] Failed to get CPU frequency: 0 Hz\n",
      "2023-03-09 16:44:30.999481: I tensorflow/core/grappler/optimizers/custom_graph_optimizer_registry.cc:113] Plugin optimizer for device_type GPU is enabled.\n"
     ]
    },
    {
     "name": "stdout",
     "output_type": "stream",
     "text": [
      "17/17 [==============================] - ETA: 0s - loss: 2.8356 - sparse_categorical_accuracy: 0.2161"
     ]
    },
    {
     "name": "stderr",
     "output_type": "stream",
     "text": [
      "2023-03-09 16:44:45.697717: I tensorflow/core/grappler/optimizers/custom_graph_optimizer_registry.cc:113] Plugin optimizer for device_type GPU is enabled.\n"
     ]
    },
    {
     "name": "stdout",
     "output_type": "stream",
     "text": [
      "17/17 [==============================] - 16s 870ms/step - loss: 2.8356 - sparse_categorical_accuracy: 0.2161 - val_loss: 2.1144 - val_sparse_categorical_accuracy: 0.2214\n",
      "Epoch 2/10\n",
      "17/17 [==============================] - 15s 852ms/step - loss: 2.0023 - sparse_categorical_accuracy: 0.2218 - val_loss: 1.8998 - val_sparse_categorical_accuracy: 0.1707\n",
      "Epoch 3/10\n",
      "17/17 [==============================] - 16s 922ms/step - loss: 1.8397 - sparse_categorical_accuracy: 0.2199 - val_loss: 1.7934 - val_sparse_categorical_accuracy: 0.2214\n",
      "Epoch 4/10\n",
      "17/17 [==============================] - 16s 923ms/step - loss: 1.7580 - sparse_categorical_accuracy: 0.2208 - val_loss: 1.7361 - val_sparse_categorical_accuracy: 0.2214\n",
      "Epoch 5/10\n",
      "17/17 [==============================] - 16s 932ms/step - loss: 1.7122 - sparse_categorical_accuracy: 0.2208 - val_loss: 1.7035 - val_sparse_categorical_accuracy: 0.2214\n",
      "Epoch 6/10\n",
      "17/17 [==============================] - 16s 947ms/step - loss: 1.6834 - sparse_categorical_accuracy: 0.2208 - val_loss: 1.6806 - val_sparse_categorical_accuracy: 0.2214\n",
      "Epoch 7/10\n",
      "17/17 [==============================] - 15s 902ms/step - loss: 1.6641 - sparse_categorical_accuracy: 0.2222 - val_loss: 1.6641 - val_sparse_categorical_accuracy: 0.2214\n",
      "Epoch 8/10\n",
      "17/17 [==============================] - 18s 1s/step - loss: 1.6502 - sparse_categorical_accuracy: 0.2208 - val_loss: 1.6535 - val_sparse_categorical_accuracy: 0.2214\n",
      "Epoch 9/10\n",
      "17/17 [==============================] - 25s 1s/step - loss: 1.6174 - sparse_categorical_accuracy: 0.2128 - val_loss: 1.6167 - val_sparse_categorical_accuracy: 0.1707\n",
      "Epoch 10/10\n",
      "17/17 [==============================] - 25s 1s/step - loss: 1.5373 - sparse_categorical_accuracy: 0.2799 - val_loss: 1.4240 - val_sparse_categorical_accuracy: 0.4165\n"
     ]
    }
   ],
   "source": [
    "history = model.fit(train_ds, validation_data=val_ds, epochs=10)"
   ]
  },
  {
   "cell_type": "code",
   "execution_count": null,
   "metadata": {},
   "outputs": [
    {
     "ename": "",
     "evalue": "",
     "output_type": "error",
     "traceback": [
      "\u001b[1;31mRunning cells with 'base' requires the ipykernel package.\n",
      "\u001b[1;31mRun the following command to install 'ipykernel' into the Python environment. \n",
      "\u001b[1;31mCommand: 'conda install -n base ipykernel --update-deps --force-reinstall'"
     ]
    }
   ],
   "source": [
    "%run rueegg_wissiak_model_visualization.ipynb"
   ]
  },
  {
   "cell_type": "code",
   "execution_count": null,
   "metadata": {},
   "outputs": [
    {
     "ename": "",
     "evalue": "",
     "output_type": "error",
     "traceback": [
      "\u001b[1;31mRunning cells with 'base' requires the ipykernel package.\n",
      "\u001b[1;31mRun the following command to install 'ipykernel' into the Python environment. \n",
      "\u001b[1;31mCommand: 'conda install -n base ipykernel --update-deps --force-reinstall'"
     ]
    }
   ],
   "source": [
    "model.evaluate(test_ds)"
   ]
  }
 ],
 "metadata": {
  "kernelspec": {
   "display_name": "AIFo22",
   "language": "python",
   "name": "python3"
  },
  "language_info": {
   "codemirror_mode": {
    "name": "ipython",
    "version": 3
   },
   "file_extension": ".py",
   "mimetype": "text/x-python",
   "name": "python",
   "nbconvert_exporter": "python",
   "pygments_lexer": "ipython3",
   "version": "3.10.9"
  },
  "orig_nbformat": 4,
  "vscode": {
   "interpreter": {
    "hash": "223ea723ef513ef457f8965ce495f1c1c726aaeacecf6a5d3e5925cfd3a89593"
   }
  }
 },
 "nbformat": 4,
 "nbformat_minor": 2
}
