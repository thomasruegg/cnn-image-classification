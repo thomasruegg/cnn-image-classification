{
 "cells": [
  {
   "attachments": {},
   "cell_type": "markdown",
   "metadata": {},
   "source": [
    "Thomas Rüegg, Patrick Wissiak"
   ]
  },
  {
   "attachments": {},
   "cell_type": "markdown",
   "metadata": {},
   "source": [
    "# TODO before we submit notebook\n",
    "\n",
    "- check import statements if all of them are actually needed\n",
    "- ensure we differenciate between test and validation sets\n",
    "- check goodnotes"
   ]
  }
 ],
 "metadata": {
  "kernelspec": {
   "display_name": "aiap",
   "language": "python",
   "name": "python3"
  },
  "language_info": {
   "codemirror_mode": {
    "name": "ipython",
    "version": 3
   },
   "file_extension": ".py",
   "mimetype": "text/x-python",
   "name": "python",
   "nbconvert_exporter": "python",
   "pygments_lexer": "ipython3",
   "version": "3.9.13"
  },
  "orig_nbformat": 4,
  "vscode": {
   "interpreter": {
    "hash": "f4d5e30736655918a4e9f405c8a444b278be5101bf9903a41ed4e49b04d98f49"
   }
  }
 },
 "nbformat": 4,
 "nbformat_minor": 2
}
