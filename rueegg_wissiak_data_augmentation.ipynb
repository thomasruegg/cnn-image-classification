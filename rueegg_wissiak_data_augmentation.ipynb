{
 "cells": [
  {
   "attachments": {},
   "cell_type": "markdown",
   "metadata": {},
   "source": [
    "## Apply Data Augmentation\n",
    "Data augmentation is a technique that generates new training samples by applying random transformations to the existing samples, such as rotations, flips, or zooms."
   ]
  },
  {
   "cell_type": "code",
   "execution_count": null,
   "metadata": {},
   "outputs": [],
   "source": [
    "import matplotlib.pyplot as plt"
   ]
  },
  {
   "cell_type": "code",
   "execution_count": null,
   "metadata": {},
   "outputs": [],
   "source": [
    "from tensorflow.keras.preprocessing.image import ImageDataGenerator\n",
    "\n",
    "img_size = 150\n",
    "batch_size = 32\n",
    "\n",
    "train_datagen = ImageDataGenerator(rescale=1/255.,rotation_range=30,width_shift_range=0.0,height_shift_range=0.0,shear_range=0.0,zoom_range=0.0,horizontal_flip=True,fill_mode='nearest')\n",
    "test_datagen = ImageDataGenerator(rescale=1/255.)\n",
    "\n",
    "train_generator = train_datagen.flow_from_directory('./dataset/seg_train/seg_train',target_size=(img_size, img_size),batch_size=batch_size,shuffle=True,class_mode='sparse')\n",
    "test_generator = test_datagen.flow_from_directory('./dataset/seg_test/seg_test',target_size=(img_size, img_size),batch_size=batch_size,shuffle=False,class_mode='sparse')"
   ]
  },
  {
   "attachments": {},
   "cell_type": "markdown",
   "metadata": {},
   "source": [
    "### Showing some sample data and validating the dataset"
   ]
  },
  {
   "cell_type": "code",
   "execution_count": null,
   "metadata": {},
   "outputs": [],
   "source": [
    "labels = ['buildings', 'forest', 'glacier', 'mountain', 'sea']\n",
    "\n",
    "\n",
    "samples = train_generator.__next__() \n",
    "images = samples[0]\n",
    "target = samples[1]\n",
    "\n",
    "plt.figure(figsize = (10,10))\n",
    "for i in range(15):\n",
    "    plt.subplot(5,5,i+1)\n",
    "    plt.subplots_adjust(hspace=0.3,wspace=0.3)\n",
    "    plt.imshow(images[i])\n",
    "    plt.title(f\"Class: {labels[int(target[i])]}\")\n",
    "    plt.axis('off')"
   ]
  }
 ],
 "metadata": {
  "kernelspec": {
   "display_name": "AIFo22",
   "language": "python",
   "name": "python3"
  },
  "language_info": {
   "name": "python",
   "version": "3.9.13"
  },
  "orig_nbformat": 4,
  "vscode": {
   "interpreter": {
    "hash": "223ea723ef513ef457f8965ce495f1c1c726aaeacecf6a5d3e5925cfd3a89593"
   }
  }
 },
 "nbformat": 4,
 "nbformat_minor": 2
}
